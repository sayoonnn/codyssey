{
 "cells": [
  {
   "cell_type": "code",
   "execution_count": 32,
   "metadata": {},
   "outputs": [],
   "source": [
    "import numpy as np\n",
    "import matplotlib.pyplot as plt\n",
    "import pandas as pd\n",
    "import seaborn as sns\n",
    "\n",
    "plt.rcParams['font.family'] = 'D2coding'\n",
    "plt.rcParams['font.size'] = 9\n",
    "plt.rcParams['axes.unicode_minus'] = False"
   ]
  },
  {
   "cell_type": "code",
   "execution_count": 33,
   "metadata": {},
   "outputs": [],
   "source": [
    "class MovieDataLoader:\n",
    "\tdef __init__(self):\n",
    "\t\tpass\n",
    "\t\n",
    "\tdef load(self, path):\n",
    "\t\tif path[-3:] == 'csv':\n",
    "\t\t\treturn pd.read_csv(path)\n",
    "\t\t\n",
    "\t\treturn pd.read_csv(path, sep='\\t')"
   ]
  },
  {
   "cell_type": "code",
   "execution_count": 34,
   "metadata": {},
   "outputs": [],
   "source": [
    "class RandomRecommender:\n",
    "\tdef __init__(self):\n",
    "\t\tself.movie_data = MovieDataLoader().load('../../../kmrd-small/movies.txt')\n",
    "\t\tself.rate_data = MovieDataLoader().load('../../../kmrd-small/rates.csv')\n",
    "  \n",
    "\t\ttmp = self.rate_data.groupby('movie')['rate'].mean().reset_index()\n",
    "\t\ttmp = pd.merge(self.movie_data, tmp, on='movie')\n",
    "\t\tprint(tmp)\n",
    "\n",
    "\tdef run(self):\n",
    "\t\tpass"
   ]
  },
  {
   "cell_type": "code",
   "execution_count": 35,
   "metadata": {},
   "outputs": [
    {
     "name": "stdout",
     "output_type": "stream",
     "text": [
      "     movie                 title                                    title_eng  \\\n",
      "0    10001                시네마 천국                       Cinema Paradiso , 1988   \n",
      "1    10002              빽 투 더 퓨쳐                    Back To The Future , 1985   \n",
      "2    10003            빽 투 더 퓨쳐 2             Back To The Future Part 2 , 1989   \n",
      "3    10004            빽 투 더 퓨쳐 3           Back To The Future Part III , 1990   \n",
      "4    10005  스타워즈 에피소드 4 - 새로운 희망                             Star Wars , 1977   \n",
      "..     ...                   ...                                          ...   \n",
      "595  10983            사랑이 머무는 곳에                           Ice Castles , 1978   \n",
      "596  10985             할리와 말보로 맨  Harley Davidson And The Marlboro Man , 1991   \n",
      "597  10988                파리의 여인                      A Woman Of Paris , 1923   \n",
      "598  10994               19번째 남자                           Bull Durham , 1988   \n",
      "599  10998                폭주 기관차                         Runaway Train , 1985   \n",
      "\n",
      "       year     grade      rate  \n",
      "0    2013.0    전체 관람가  9.294360  \n",
      "1    2015.0   12세 관람가  9.416778  \n",
      "2    2015.0   12세 관람가  9.270981  \n",
      "3    1990.0    전체 관람가  9.120000  \n",
      "4    1997.0        PG  9.048619  \n",
      "..      ...       ...       ...  \n",
      "595  1979.0        PG  9.178571  \n",
      "596  1991.0  청소년 관람불가  4.571429  \n",
      "597  2015.0        NR  9.076923  \n",
      "598  1990.0  청소년 관람불가  7.684211  \n",
      "599  1989.0   15세 관람가  8.882759  \n",
      "\n",
      "[600 rows x 6 columns]\n"
     ]
    }
   ],
   "source": [
    "RandomRecommender().run()"
   ]
  }
 ],
 "metadata": {
  "kernelspec": {
   "display_name": ".venv",
   "language": "python",
   "name": "python3"
  },
  "language_info": {
   "codemirror_mode": {
    "name": "ipython",
    "version": 3
   },
   "file_extension": ".py",
   "mimetype": "text/x-python",
   "name": "python",
   "nbconvert_exporter": "python",
   "pygments_lexer": "ipython3",
   "version": "3.12.7"
  }
 },
 "nbformat": 4,
 "nbformat_minor": 2
}
